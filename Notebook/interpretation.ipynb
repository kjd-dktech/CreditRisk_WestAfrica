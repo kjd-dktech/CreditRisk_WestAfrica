{
 "cells": [
  {
   "cell_type": "markdown",
   "id": "aa1ede88",
   "metadata": {},
   "source": [
    "## 📊 Structure des données"
   ]
  },
  {
   "cell_type": "markdown",
   "id": "9d9dc5db",
   "metadata": {},
   "source": [
    "- **Nombre de lignes** : 68 654\n",
    "- **Colonnes principales** : 16\n",
    "- **Pas de valeurs manquantes** (✅ bonne nouvelle !)"
   ]
  },
  {
   "cell_type": "markdown",
   "id": "247a95d8",
   "metadata": {},
   "source": [
    "## 🔑 Variables clés"
   ]
  },
  {
   "cell_type": "markdown",
   "id": "88bb1ea4",
   "metadata": {},
   "source": [
    "| Nom de la colonne               | Type      | Description simplifiée                        |\n",
    "| ------------------------------- | --------- | --------------------------------------------- |\n",
    "| `ID`                            | object    | Identifiant unique du prêt                    |\n",
    "| `customer_id`                   | int       | Identifiant du client                         |\n",
    "| `country_id`                    | object    | Pays (ici uniquement \"Kenya\")                 |\n",
    "| `tbl_loan_id`                   | int       | ID du prêt                                    |\n",
    "| `lender_id`                     | int       | ID du prêteur                                 |\n",
    "| `loan_type`                     | object    | Type de prêt (Type\\_1 à Type\\_22)             |\n",
    "| `Total_Amount`                  | float     | Montant emprunté                              |\n",
    "| `Total_Amount_to_Repay`         | float     | Montant à rembourser                          |\n",
    "| `disbursement_date`, `due_date` | object    | Dates du prêt                                 |\n",
    "| `duration`                      | int       | Durée du prêt en jours                        |\n",
    "| `New_versus_Repeat`             | object    | \"New Loan\" ou \"Repeat Loan\"                   |\n",
    "| `Amount_Funded_By_Lender`       | float     | Montant financé par le prêteur                |\n",
    "| `Lender_portion_Funded`         | float     | Portion financée                              |\n",
    "| `Lender_portion_to_be_repaid`   | float     | Ce que le prêteur doit récupérer              |\n",
    "| `target`                        | int (0/1) | **Variable à prédire : défaut de paiement ?** |\n"
   ]
  },
  {
   "cell_type": "markdown",
   "id": "aac419f4",
   "metadata": {},
   "source": [
    "# Préparation"
   ]
  },
  {
   "cell_type": "markdown",
   "id": "cb4ae3d9",
   "metadata": {},
   "source": [
    "# 1. Exploratory Data Analysis\n",
    "\n",
    "## Checklist de base\n",
    "#### Analyse de Forme :\n",
    "- **variable target** : target\n",
    "- **lignes et colonnes** : (68654, 16)\n",
    "- **types de variables** : qualitatives : 70, quantitatives : 41\n",
    "- **Analyse des valeurs manquantes** : pas de valeurs manquantes\n",
    "\n",
    "#### Analyse de Fond :\n",
    "- **Visualisation de la target** :\n",
    "    - 1.83% ont un défaut de payement.\n",
    "    \n",
    "    \n",
    "    \n",
    "- **Signification des variables** :\n",
    "\n",
    "\n",
    "\n",
    "- **Relation Variables / Target** :\n",
    "\n",
    "    \n",
    "    \n",
    "## Analyse plus détaillée\n",
    "\n",
    "- **Relation Variables / Variables** :\n",
    "\n",
    "\n",
    "\n",
    "\n",
    "### hypotheses nulle (H0): \n",
    "\n",
    "\n"
   ]
  }
 ],
 "metadata": {
  "kernelspec": {
   "display_name": "creditriskwestafricavenv",
   "language": "python",
   "name": "python3"
  },
  "language_info": {
   "codemirror_mode": {
    "name": "ipython",
    "version": 3
   },
   "file_extension": ".py",
   "mimetype": "text/x-python",
   "name": "python",
   "nbconvert_exporter": "python",
   "pygments_lexer": "ipython3",
   "version": "3.13.3"
  }
 },
 "nbformat": 4,
 "nbformat_minor": 5
}
